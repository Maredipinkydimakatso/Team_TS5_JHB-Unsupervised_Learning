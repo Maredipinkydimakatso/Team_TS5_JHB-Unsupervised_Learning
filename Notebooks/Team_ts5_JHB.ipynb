{
 "cells": [
  {
   "cell_type": "markdown",
   "metadata": {},
   "source": [
    "# **Movie Recommendation system**\n",
    "\n",
    "\n",
    "\n",
    "Recommendation algorithms are at the core of many service providers strategies. They provide consumers\n",
    "with personalized suggestions to reduce time spent looking for an item or a service. This inturn reduce \n",
    "the frustration of finding great content to watch on **Netflix**, awesome books on **Amazon**, terrific  videos\n",
    "on **Youtube** and incredible other recommendations from other service providers.\n",
    "The importance of a recommender system cannot be stressed enough. The financial benefits are enomous which is why\n",
    "big corporate companies employ them. \n",
    "\n",
    "In this notebook, we build a movie recommendation system. A typical scenario of where you will need our system\n",
    "is that of a **Friday** night, while having a nice cup of wine, some snacks sitting comfortably in your lounge,\n",
    "or bed, all alone, or with some company. An almost perfect night, except that you don't have thee perfect movie. \n",
    "Now you wish you had went out, but you can't since there is still **Covid-19** and you are **locked-down**. You turn to\n",
    "our movie recommender and you recall you enjoyed a movie called **The heart of Christmas** and then booom: \n",
    "\n",
    "\n",
    "![title](../images/reco_movies.jpg)\n",
    "\n",
    "Now you have a headache of which great movie to choose, a much better and more welcomed problem in your life. **Enjoy your Movie**\n",
    "\n",
    "# Load Libraries"
   ]
  },
  {
   "cell_type": "code",
   "execution_count": null,
   "metadata": {},
   "outputs": [],
   "source": []
  }
 ],
 "metadata": {
  "kernelspec": {
   "display_name": "Python 3",
   "language": "python",
   "name": "python3"
  },
  "language_info": {
   "codemirror_mode": {
    "name": "ipython",
    "version": 3
   },
   "file_extension": ".py",
   "mimetype": "text/x-python",
   "name": "python",
   "nbconvert_exporter": "python",
   "pygments_lexer": "ipython3",
   "version": "3.7.6"
  }
 },
 "nbformat": 4,
 "nbformat_minor": 4
}
